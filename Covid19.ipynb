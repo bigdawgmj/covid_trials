{
 "cells": [
  {
   "cell_type": "code",
   "execution_count": 150,
   "metadata": {},
   "outputs": [],
   "source": [
    "from pathlib import Path\n",
    "from datetime import date, timedelta\n",
    "import pandas as pd\n",
    "import matplotlib.pyplot as plt\n",
    "\n",
    "data_path = Path('/home/mark/code/COVID-19/csse_covid_19_data')\n",
    "yesterday = date.today() - timedelta(1)\n",
    "today_path = Path(data_path, 'csse_covid_19_daily_reports', f\"{yesterday.strftime('%m-%d-%Y')}.csv\")\n",
    "ts_deaths = Path(data_path, 'csse_covid_19_time_series', 'time_series_19-covid-Deaths.csv')\n",
    "ts_confirm = Path(data_path, 'csse_covid_19_time_series', 'time_series_19-covid-Confirmed.csv')\n",
    "ts_recover = Path(data_path, 'csse_covid_19_time_series', 'time_series_19-covid-Recovered.csv')"
   ]
  },
  {
   "cell_type": "code",
   "execution_count": 151,
   "metadata": {},
   "outputs": [
    {
     "data": {
      "text/html": [
       "<div>\n",
       "<style scoped>\n",
       "    .dataframe tbody tr th:only-of-type {\n",
       "        vertical-align: middle;\n",
       "    }\n",
       "\n",
       "    .dataframe tbody tr th {\n",
       "        vertical-align: top;\n",
       "    }\n",
       "\n",
       "    .dataframe thead th {\n",
       "        text-align: right;\n",
       "    }\n",
       "</style>\n",
       "<table border=\"1\" class=\"dataframe\">\n",
       "  <thead>\n",
       "    <tr style=\"text-align: right;\">\n",
       "      <th></th>\n",
       "      <th>Province/State</th>\n",
       "      <th>Country/Region</th>\n",
       "      <th>Last Update</th>\n",
       "      <th>Confirmed</th>\n",
       "      <th>Deaths</th>\n",
       "      <th>Recovered</th>\n",
       "      <th>Latitude</th>\n",
       "      <th>Longitude</th>\n",
       "    </tr>\n",
       "  </thead>\n",
       "  <tbody>\n",
       "    <tr>\n",
       "      <th>0</th>\n",
       "      <td>Hubei</td>\n",
       "      <td>China</td>\n",
       "      <td>2020-03-13T11:09:03</td>\n",
       "      <td>67786</td>\n",
       "      <td>3062</td>\n",
       "      <td>51553</td>\n",
       "      <td>30.9756</td>\n",
       "      <td>112.2707</td>\n",
       "    </tr>\n",
       "    <tr>\n",
       "      <th>1</th>\n",
       "      <td>Guangdong</td>\n",
       "      <td>China</td>\n",
       "      <td>2020-03-13T11:09:03</td>\n",
       "      <td>1356</td>\n",
       "      <td>8</td>\n",
       "      <td>1296</td>\n",
       "      <td>23.3417</td>\n",
       "      <td>113.4244</td>\n",
       "    </tr>\n",
       "    <tr>\n",
       "      <th>2</th>\n",
       "      <td>Henan</td>\n",
       "      <td>China</td>\n",
       "      <td>2020-03-11T08:13:09</td>\n",
       "      <td>1273</td>\n",
       "      <td>22</td>\n",
       "      <td>1249</td>\n",
       "      <td>33.8820</td>\n",
       "      <td>113.6140</td>\n",
       "    </tr>\n",
       "  </tbody>\n",
       "</table>\n",
       "</div>"
      ],
      "text/plain": [
       "  Province/State Country/Region          Last Update  Confirmed  Deaths  \\\n",
       "0          Hubei          China  2020-03-13T11:09:03      67786    3062   \n",
       "1      Guangdong          China  2020-03-13T11:09:03       1356       8   \n",
       "2          Henan          China  2020-03-11T08:13:09       1273      22   \n",
       "\n",
       "   Recovered  Latitude  Longitude  \n",
       "0      51553   30.9756   112.2707  \n",
       "1       1296   23.3417   113.4244  \n",
       "2       1249   33.8820   113.6140  "
      ]
     },
     "execution_count": 151,
     "metadata": {},
     "output_type": "execute_result"
    }
   ],
   "source": [
    "df = pd.read_csv(today_path)\n",
    "df.head(3)"
   ]
  },
  {
   "cell_type": "code",
   "execution_count": 152,
   "metadata": {},
   "outputs": [
    {
     "data": {
      "text/plain": [
       "array(['China', 'Panama', 'Australia', 'Croatia', 'Burkina Faso',\n",
       "       'Albania', 'Canada', 'United Kingdom', 'Philippines', 'Nepal',\n",
       "       'Sri Lanka', 'United Arab Emirates', 'Thailand', 'Cambodia',\n",
       "       'San Marino', 'Germany', 'Congo (Kinshasa)', 'Honduras', 'US',\n",
       "       'Algeria', 'Reunion', 'Oman', 'Cruise Ship', 'Italy', 'Iraq',\n",
       "       'Lebanon', 'Ukraine', 'Austria', 'Switzerland', 'Ireland',\n",
       "       'Georgia', 'Bangladesh', 'Kuwait', 'North Macedonia', 'Brazil',\n",
       "       'Greece', 'Sweden', 'Pakistan', 'Norway', 'France', 'Turkey',\n",
       "       'Bahrain', 'Iceland', 'Ecuador', 'Estonia', 'Denmark',\n",
       "       'Netherlands', 'Cuba', 'Nigeria', 'Lithuania', 'New Zealand',\n",
       "       'Belarus', 'Azerbaijan', 'Armenia', 'Kazakhstan', 'Iran', 'Israel',\n",
       "       'Cayman Islands', 'Japan', 'Czechia', 'Qatar', 'Singapore',\n",
       "       'Guadeloupe', 'Dominican Republic', 'Egypt', 'Bolivia',\n",
       "       'Indonesia', 'Korea, South', 'Latvia', 'Senegal', 'Ethiopia',\n",
       "       'Sudan', 'Portugal', 'Andorra', 'Guinea', 'Antigua and Barbuda',\n",
       "       'Belgium', 'Russia', 'India', 'Morocco', 'Aruba', 'Argentina',\n",
       "       'Chile', 'Jordan', 'Kenya', 'Poland', 'Hungary', 'Slovenia',\n",
       "       'Finland', 'South Africa', 'Bosnia and Herzegovina',\n",
       "       'Saudi Arabia', \"Cote d'Ivoire\", 'Luxembourg', 'Costa Rica',\n",
       "       'Bhutan', 'Spain', 'Malaysia', 'Holy See', 'Serbia', 'Cameroon',\n",
       "       'Slovakia', 'Togo', 'Peru', 'Romania', 'Mexico', 'Colombia',\n",
       "       'Brunei', 'Martinique', 'French Guiana', 'Malta', 'Paraguay',\n",
       "       'Moldova', 'Maldives', 'Bulgaria', 'Tunisia', 'Cyprus', 'Vietnam',\n",
       "       'Mongolia', 'Jamaica', 'Afghanistan', 'Monaco', 'Liechtenstein',\n",
       "       'Guyana', 'Taiwan*'], dtype=object)"
      ]
     },
     "execution_count": 152,
     "metadata": {},
     "output_type": "execute_result"
    }
   ],
   "source": [
    "df['Country/Region'].unique()"
   ]
  },
  {
   "cell_type": "code",
   "execution_count": 159,
   "metadata": {},
   "outputs": [
    {
     "data": {
      "image/png": "[encoded data removed]",
      "text/plain": [
       "<Figure size 864x576 with 3 Axes>"
      ]
     },
     "metadata": {
      "needs_background": "light"
     },
     "output_type": "display_data"
    }
   ],
   "source": [
    "# Define the time-series data\n",
    "ts_d_df = pd.read_csv(ts_deaths)\n",
    "ts_c_df = pd.read_csv(ts_confirm)\n",
    "ts_r_df = pd.read_csv(ts_recover)\n",
    "dfs = [ts_d_df, ts_c_df, ts_r_df]\n",
    "titles = ['COVID-19 Deaths','COVID-19 Confirmed','COVID-19 Recovered']\n",
    "\n",
    "#Generate the function to plot US vs. China\n",
    "def get_plot(title: list, dfs: list):\n",
    "    cnt = 0\n",
    "    \n",
    "    \n",
    "    fig, axes = plt.subplots(1, 3, figsize=(12, 8), sharey=True)\n",
    "    for df in dfs:\n",
    "        country_df = df.groupby(['Country/Region']).sum()\n",
    "        #print(country_df['Mainland China'])\n",
    "        for idx, row in country_df.iterrows():\n",
    "#             if 'China' in idx or 'US' in idx or 'Norway' in idx or 'Sweden' in idx:\n",
    "            if 'Germany' in idx or 'US' in idx or 'Norway' in idx or 'Sweden' in idx or 'Denmark' in idx or 'Italy' in idx:\n",
    "\n",
    "                row = row.drop(labels=['Lat', 'Long'], axis=0)\n",
    "                ax1 = row.plot(ax=axes[cnt])\n",
    "                ax1.legend(loc=\"upper right\", title=f\"{idx}\", frameon=False)\n",
    "                ax1.set_title(title[cnt])\n",
    "        cnt += 1\n",
    "\n",
    "get_plot(titles, dfs)\n"
   ]
  },
  {
   "cell_type": "code",
   "execution_count": 161,
   "metadata": {},
   "outputs": [],
   "source": [
    "country_data = [{\n",
    "    'country':'US',\n",
    "    'population': 308745538\n",
    "},{\n",
    "    'country':'Denmark',\n",
    "    'population': 5822763\n",
    "},{\n",
    "    'country':'Germany',\n",
    "    'population': 83042200\n",
    "},{\n",
    "    'country':'Italy',\n",
    "    'population': 60391000\n",
    "},{\n",
    "    'country':'Norway',\n",
    "    'population': 5367580\n",
    "},{\n",
    "    'country':'Sweden',\n",
    "    'population': 10327600\n",
    "},{\n",
    "    'country':'China',\n",
    "    'population': 1427647786  \n",
    "}]"
   ]
  },
  {
   "cell_type": "code",
   "execution_count": null,
   "metadata": {},
   "outputs": [],
   "source": []
  }
 ],
 "metadata": {
  "kernelspec": {
   "display_name": "Python 3",
   "language": "python",
   "name": "python3"
  },
  "language_info": {
   "codemirror_mode": {
    "name": "ipython",
    "version": 3
   },
   "file_extension": ".py",
   "mimetype": "text/x-python",
   "name": "python",
   "nbconvert_exporter": "python",
   "pygments_lexer": "ipython3",
   "version": "3.6.9"
  }
 },
 "nbformat": 4,
 "nbformat_minor": 4
}
